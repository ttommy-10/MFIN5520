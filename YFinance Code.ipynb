{
 "cells": [
  {
   "cell_type": "code",
   "execution_count": 1,
   "id": "1dc133f0",
   "metadata": {},
   "outputs": [
    {
     "name": "stdout",
     "output_type": "stream",
     "text": [
      "Requirement already satisfied: yfinance in /Users/tommytang/opt/anaconda3/lib/python3.8/site-packages (0.1.74)\n",
      "Requirement already satisfied: pandas>=0.24.0 in /Users/tommytang/opt/anaconda3/lib/python3.8/site-packages (from yfinance) (1.2.4)\n",
      "Requirement already satisfied: lxml>=4.5.1 in /Users/tommytang/opt/anaconda3/lib/python3.8/site-packages (from yfinance) (4.6.3)\n",
      "Requirement already satisfied: multitasking>=0.0.7 in /Users/tommytang/opt/anaconda3/lib/python3.8/site-packages (from yfinance) (0.0.11)\n",
      "Requirement already satisfied: numpy>=1.15 in /Users/tommytang/opt/anaconda3/lib/python3.8/site-packages (from yfinance) (1.20.1)\n",
      "Requirement already satisfied: requests>=2.26 in /Users/tommytang/opt/anaconda3/lib/python3.8/site-packages (from yfinance) (2.28.1)\n",
      "Requirement already satisfied: python-dateutil>=2.7.3 in /Users/tommytang/opt/anaconda3/lib/python3.8/site-packages (from pandas>=0.24.0->yfinance) (2.8.1)\n",
      "Requirement already satisfied: pytz>=2017.3 in /Users/tommytang/opt/anaconda3/lib/python3.8/site-packages (from pandas>=0.24.0->yfinance) (2021.1)\n",
      "Requirement already satisfied: six>=1.5 in /Users/tommytang/opt/anaconda3/lib/python3.8/site-packages (from python-dateutil>=2.7.3->pandas>=0.24.0->yfinance) (1.15.0)\n",
      "Requirement already satisfied: idna<4,>=2.5 in /Users/tommytang/opt/anaconda3/lib/python3.8/site-packages (from requests>=2.26->yfinance) (2.10)\n",
      "Requirement already satisfied: urllib3<1.27,>=1.21.1 in /Users/tommytang/opt/anaconda3/lib/python3.8/site-packages (from requests>=2.26->yfinance) (1.26.4)\n",
      "Requirement already satisfied: certifi>=2017.4.17 in /Users/tommytang/opt/anaconda3/lib/python3.8/site-packages (from requests>=2.26->yfinance) (2020.12.5)\n",
      "Requirement already satisfied: charset-normalizer<3,>=2 in /Users/tommytang/opt/anaconda3/lib/python3.8/site-packages (from requests>=2.26->yfinance) (2.1.0)\n"
     ]
    }
   ],
   "source": [
    "import pandas as pd\n",
    "!pip install yfinance\n",
    "import yfinance as yf\n",
    "import numpy as np\n",
    "import matplotlib.pyplot as plt\n",
    "from scipy.optimize import minimize, Bounds, LinearConstraint"
   ]
  },
  {
   "cell_type": "code",
   "execution_count": 9,
   "id": "c0f563ac",
   "metadata": {},
   "outputs": [],
   "source": [
    "start_date = \"2017-01-03\"\n",
    "end_date = \"2022-07-29\"\n",
    "tickerlist = ['RY.TO','TD.TO','BNS.TO','CM.TO','CWB.TO','HCG.TO','LB.TO','NA.TO','BMO.TO']"
   ]
  },
  {
   "cell_type": "code",
   "execution_count": 10,
   "id": "d6412c9a",
   "metadata": {},
   "outputs": [
    {
     "name": "stdout",
     "output_type": "stream",
     "text": [
      "[*********************100%***********************]  9 of 9 completed\n"
     ]
    }
   ],
   "source": [
    "tickerstr = ''.join(tickerlist)\n",
    "data = yf.download(tickers=tickerlist, start=start_date, end=end_date, interval=\"1d\", group_by='ticker')"
   ]
  },
  {
   "cell_type": "code",
   "execution_count": 8,
   "id": "89101953",
   "metadata": {},
   "outputs": [
    {
     "name": "stdout",
     "output_type": "stream",
     "text": [
      "                LB.TO                                                      \\\n",
      "                 Open       High        Low      Close  Adj Close  Volume   \n",
      "Date                                                                        \n",
      "2017-01-03  57.990002  58.840000  57.980000  58.310001  43.809845  106400   \n",
      "2017-01-04  58.230000  58.880001  57.900002  58.700001  44.102867  107600   \n",
      "2017-01-05  58.799999  59.169998  58.549999  58.790001  44.170483   61600   \n",
      "2017-01-06  58.750000  58.840000  58.450001  58.689999  44.095348   44800   \n",
      "2017-01-09  58.500000  58.939999  58.230000  58.650002  44.065300   62200   \n",
      "...               ...        ...        ...        ...        ...     ...   \n",
      "2022-07-21  41.169998  41.410000  40.980000  41.299999  41.299999  113800   \n",
      "2022-07-22  41.389999  41.720001  41.240002  41.540001  41.540001  182900   \n",
      "2022-07-25  41.730000  42.320000  41.560001  42.180000  42.180000  211800   \n",
      "2022-07-26  42.000000  42.349998  41.509998  41.529999  41.529999  181800   \n",
      "2022-07-27  41.709999  41.990002  41.119999  41.349998  41.349998  149700   \n",
      "\n",
      "                TD.TO                                   ...     HCG.TO  \\\n",
      "                 Open       High        Low      Close  ...        Low   \n",
      "Date                                                    ...              \n",
      "2017-01-03  66.629997  66.959999  66.599998  66.910004  ...  31.250000   \n",
      "2017-01-04  67.199997  67.820000  67.000000  67.650002  ...  31.740000   \n",
      "2017-01-05  67.699997  68.080002  67.610001  67.809998  ...  31.340000   \n",
      "2017-01-06  67.330002  67.500000  67.019997  67.349998  ...  31.160000   \n",
      "2017-01-09  67.199997  67.290001  66.730003  67.040001  ...  29.350000   \n",
      "...               ...        ...        ...        ...  ...        ...   \n",
      "2022-07-21  82.019997  82.519997  81.650002  82.239998  ...  24.719999   \n",
      "2022-07-22  82.139999  82.550003  81.559998  82.029999  ...  24.950001   \n",
      "2022-07-25  82.150002  83.050003  82.150002  82.470001  ...  25.180000   \n",
      "2022-07-26  82.099998  82.709999  81.349998  81.400002  ...  25.110001   \n",
      "2022-07-27  81.750000  82.720001  81.379997  82.440002  ...  25.299999   \n",
      "\n",
      "                                              CM.TO                        \\\n",
      "                Close  Adj Close  Volume       Open       High        Low   \n",
      "Date                                                                        \n",
      "2017-01-03  31.790001  31.204655  215200  55.000000  55.419998  54.959999   \n",
      "2017-01-04  31.850000  31.263548  269900  55.494999  55.875000  55.424999   \n",
      "2017-01-05  31.570000  30.988705   97700  55.834999  56.040001  55.709999   \n",
      "2017-01-06  31.280001  30.704044  101600  55.924999  56.044998  55.715000   \n",
      "2017-01-09  30.540001  29.977671  328000  55.779999  55.799999  55.404999   \n",
      "...               ...        ...     ...        ...        ...        ...   \n",
      "2022-07-21  25.049999  25.049999  170300  62.299999  62.740002  61.919998   \n",
      "2022-07-22  25.150000  25.150000  141900  62.720001  63.389999  62.509998   \n",
      "2022-07-25  25.620001  25.620001  200200  63.000000  63.810001  62.930000   \n",
      "2022-07-26  25.190001  25.190001  201800  63.240002  63.610001  62.919998   \n",
      "2022-07-27  25.540001  25.540001  165800  63.220001  63.950001  63.110001   \n",
      "\n",
      "                                           \n",
      "                Close  Adj Close   Volume  \n",
      "Date                                       \n",
      "2017-01-03  55.419998  42.166836  2092200  \n",
      "2017-01-04  55.830002  42.478802  2995600  \n",
      "2017-01-05  55.904999  42.535854  2200600  \n",
      "2017-01-06  55.845001  42.490211  1239800  \n",
      "2017-01-09  55.665001  42.353260  1464800  \n",
      "...               ...        ...      ...  \n",
      "2022-07-21  62.700001  62.700001  2197800  \n",
      "2022-07-22  62.959999  62.959999  2907300  \n",
      "2022-07-25  63.290001  63.290001  1771200  \n",
      "2022-07-26  63.049999  63.049999  1486200  \n",
      "2022-07-27  63.680000  63.680000  4181100  \n",
      "\n",
      "[1398 rows x 54 columns]\n"
     ]
    }
   ],
   "source": [
    "print(data)"
   ]
  },
  {
   "cell_type": "code",
   "execution_count": 11,
   "id": "e38ce455",
   "metadata": {},
   "outputs": [],
   "source": [
    "df=pd.DataFrame(index=data.index)\n",
    "for x in tickerlist:\n",
    "    df = pd.merge(df, data[x]['Adj Close'].rename(x), left_index=True, right_index=True)\n",
    "\n",
    "df=df.dropna(axis=0)"
   ]
  },
  {
   "cell_type": "code",
   "execution_count": 12,
   "id": "3db0429b",
   "metadata": {},
   "outputs": [
    {
     "name": "stdout",
     "output_type": "stream",
     "text": [
      "                 RY.TO      TD.TO     BNS.TO      CM.TO     CWB.TO     HCG.TO  \\\n",
      "Date                                                                            \n",
      "2017-01-03   73.316238  53.386005  58.153591  42.166840  25.346199  31.204655   \n",
      "2017-01-04   74.389961  53.976433  58.644836  42.478794  25.766714  31.263548   \n",
      "2017-01-05   74.373917  54.104084  58.775322  42.535858  25.717239  30.988705   \n",
      "2017-01-06   74.293793  54.176483  58.790668  42.490208  25.741980  30.704044   \n",
      "2017-01-09   74.133553  53.927128  58.606457  42.353256  25.387428  29.977671   \n",
      "...                ...        ...        ...        ...        ...        ...   \n",
      "2022-07-22  122.339996  82.029999  75.089996  62.959999  25.299999  25.150000   \n",
      "2022-07-25  123.099998  82.470001  75.739998  63.290001  25.600000  25.620001   \n",
      "2022-07-26  121.849998  81.400002  75.860001  63.049999  25.209999  25.190001   \n",
      "2022-07-27  122.650002  82.440002  76.699997  63.680000  25.389999  25.540001   \n",
      "2022-07-28  123.750000  82.070000  77.199997  64.160004  25.490000  25.830000   \n",
      "\n",
      "                LB.TO      NA.TO      BMO.TO  \n",
      "Date                                          \n",
      "2017-01-03  43.809841  44.465137   77.809181  \n",
      "2017-01-04  44.102852  45.018002   78.081772  \n",
      "2017-01-05  44.170483  45.180611   78.402428  \n",
      "2017-01-06  44.095345  45.131824   78.202011  \n",
      "2017-01-09  44.065304  44.717190   78.049690  \n",
      "...               ...        ...         ...  \n",
      "2022-07-22  41.540001  88.959999  125.290001  \n",
      "2022-07-25  42.180000  89.919998  126.400002  \n",
      "2022-07-26  41.529999  87.760002  125.839996  \n",
      "2022-07-27  41.349998  89.019997  127.309998  \n",
      "2022-07-28  41.549999  89.489998  127.860001  \n",
      "\n",
      "[1399 rows x 9 columns]\n"
     ]
    }
   ],
   "source": [
    "print(df)"
   ]
  },
  {
   "cell_type": "code",
   "execution_count": 13,
   "id": "fef8bdfc",
   "metadata": {},
   "outputs": [],
   "source": [
    "df_pctchg = df.pct_change()"
   ]
  },
  {
   "cell_type": "code",
   "execution_count": 14,
   "id": "6c443ed8",
   "metadata": {},
   "outputs": [
    {
     "name": "stdout",
     "output_type": "stream",
     "text": [
      "               RY.TO     TD.TO    BNS.TO     CM.TO    CWB.TO    HCG.TO  \\\n",
      "Date                                                                     \n",
      "2017-01-03       NaN       NaN       NaN       NaN       NaN       NaN   \n",
      "2017-01-04  0.014645  0.011060  0.008447  0.007398  0.016591  0.001887   \n",
      "2017-01-05 -0.000216  0.002365  0.002225  0.001343 -0.001920 -0.008791   \n",
      "2017-01-06 -0.001077  0.001338  0.000261 -0.001073  0.000962 -0.009186   \n",
      "2017-01-09 -0.002157 -0.004603 -0.003133 -0.003223 -0.013773 -0.023657   \n",
      "...              ...       ...       ...       ...       ...       ...   \n",
      "2022-07-22 -0.003707 -0.002553 -0.003451  0.004147 -0.009397  0.003992   \n",
      "2022-07-25  0.006212  0.005364  0.008656  0.005241  0.011858  0.018688   \n",
      "2022-07-26 -0.010154 -0.012974  0.001584 -0.003792 -0.015234 -0.016784   \n",
      "2022-07-27  0.006565  0.012776  0.011073  0.009992  0.007140  0.013894   \n",
      "2022-07-28  0.008969 -0.004488  0.006519  0.007538  0.003939  0.011355   \n",
      "\n",
      "               LB.TO     NA.TO    BMO.TO  \n",
      "Date                                      \n",
      "2017-01-03       NaN       NaN       NaN  \n",
      "2017-01-04  0.006688  0.012434  0.003503  \n",
      "2017-01-05  0.001533  0.003612  0.004107  \n",
      "2017-01-06 -0.001701 -0.001080 -0.002556  \n",
      "2017-01-09 -0.000681 -0.009187 -0.001948  \n",
      "...              ...       ...       ...  \n",
      "2022-07-22  0.005811 -0.002243 -0.001275  \n",
      "2022-07-25  0.015407  0.010791  0.008859  \n",
      "2022-07-26 -0.015410 -0.024021 -0.004430  \n",
      "2022-07-27 -0.004334  0.014357  0.011682  \n",
      "2022-07-28  0.004837  0.005280  0.004320  \n",
      "\n",
      "[1399 rows x 9 columns]\n"
     ]
    }
   ],
   "source": [
    "print(df_pctchg)"
   ]
  },
  {
   "cell_type": "code",
   "execution_count": 15,
   "id": "7101e1be",
   "metadata": {},
   "outputs": [],
   "source": [
    "corr = df_pctchg.corr()"
   ]
  },
  {
   "cell_type": "code",
   "execution_count": 16,
   "id": "263ab14e",
   "metadata": {},
   "outputs": [
    {
     "name": "stdout",
     "output_type": "stream",
     "text": [
      "           RY.TO     TD.TO    BNS.TO     CM.TO    CWB.TO    HCG.TO     LB.TO  \\\n",
      "RY.TO   1.000000  0.850590  0.842268  0.813709  0.606172  0.303547  0.625138   \n",
      "TD.TO   0.850590  1.000000  0.865843  0.818254  0.641601  0.317292  0.658345   \n",
      "BNS.TO  0.842268  0.865843  1.000000  0.834102  0.638694  0.323147  0.672760   \n",
      "CM.TO   0.813709  0.818254  0.834102  1.000000  0.640523  0.333083  0.663341   \n",
      "CWB.TO  0.606172  0.641601  0.638694  0.640523  1.000000  0.388507  0.627081   \n",
      "HCG.TO  0.303547  0.317292  0.323147  0.333083  0.388507  1.000000  0.290011   \n",
      "LB.TO   0.625138  0.658345  0.672760  0.663341  0.627081  0.290011  1.000000   \n",
      "NA.TO   0.807352  0.807550  0.824888  0.808224  0.661559  0.348647  0.649697   \n",
      "BMO.TO  0.835289  0.843696  0.857003  0.857002  0.664418  0.331414  0.675475   \n",
      "\n",
      "           NA.TO    BMO.TO  \n",
      "RY.TO   0.807352  0.835289  \n",
      "TD.TO   0.807550  0.843696  \n",
      "BNS.TO  0.824888  0.857003  \n",
      "CM.TO   0.808224  0.857002  \n",
      "CWB.TO  0.661559  0.664418  \n",
      "HCG.TO  0.348647  0.331414  \n",
      "LB.TO   0.649697  0.675475  \n",
      "NA.TO   1.000000  0.826121  \n",
      "BMO.TO  0.826121  1.000000  \n"
     ]
    }
   ],
   "source": [
    "print (corr)"
   ]
  },
  {
   "cell_type": "code",
   "execution_count": null,
   "id": "c7f45843",
   "metadata": {},
   "outputs": [],
   "source": []
  }
 ],
 "metadata": {
  "kernelspec": {
   "display_name": "Python 3",
   "language": "python",
   "name": "python3"
  },
  "language_info": {
   "codemirror_mode": {
    "name": "ipython",
    "version": 3
   },
   "file_extension": ".py",
   "mimetype": "text/x-python",
   "name": "python",
   "nbconvert_exporter": "python",
   "pygments_lexer": "ipython3",
   "version": "3.8.8"
  }
 },
 "nbformat": 4,
 "nbformat_minor": 5
}
